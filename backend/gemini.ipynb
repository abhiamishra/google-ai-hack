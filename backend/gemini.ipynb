{
 "cells": [
  {
   "cell_type": "code",
   "execution_count": 7,
   "metadata": {},
   "outputs": [
    {
     "name": "stdout",
     "output_type": "stream",
     "text": [
      "models/gemini-1.0-pro\n",
      "models/gemini-1.0-pro-001\n",
      "models/gemini-1.0-pro-latest\n",
      "models/gemini-1.0-pro-vision-latest\n",
      "models/gemini-1.5-pro-latest\n",
      "models/gemini-pro\n",
      "models/gemini-pro-vision\n"
     ]
    }
   ],
   "source": [
    "import os\n",
    "from dotenv import load_dotenv\n",
    "\n",
    "# Load .env file\n",
    "load_dotenv()\n",
    "\n",
    "import google.generativeai as genai\n",
    "\n",
    "# Or use `os.getenv('GOOGLE_API_KEY')` to fetch an environment variable.\n",
    "GOOGLE_API_KEY=os.getenv('GOOGLE_API_KEY')\n",
    "\n",
    "genai.configure(api_key=GOOGLE_API_KEY)\n",
    "\n",
    "for m in genai.list_models():\n",
    "  if 'generateContent' in m.supported_generation_methods:\n",
    "    print(m.name)\n",
    "\n",
    "model = genai.GenerativeModel('gemini-pro')"
   ]
  },
  {
   "cell_type": "code",
   "execution_count": 24,
   "metadata": {},
   "outputs": [],
   "source": [
    "# Set up the model\n",
    "generation_config = {\n",
    "  \"temperature\": 1,\n",
    "  \"top_p\": 0.95,\n",
    "  \"top_k\": 0,\n",
    "  \"max_output_tokens\": 8192,\n",
    "}\n",
    "\n",
    "safety_settings = [\n",
    "  {\n",
    "    \"category\": \"HARM_CATEGORY_HARASSMENT\",\n",
    "    \"threshold\": \"BLOCK_MEDIUM_AND_ABOVE\"\n",
    "  },\n",
    "  {\n",
    "    \"category\": \"HARM_CATEGORY_HATE_SPEECH\",\n",
    "    \"threshold\": \"BLOCK_MEDIUM_AND_ABOVE\"\n",
    "  },\n",
    "  {\n",
    "    \"category\": \"HARM_CATEGORY_SEXUALLY_EXPLICIT\",\n",
    "    \"threshold\": \"BLOCK_MEDIUM_AND_ABOVE\"\n",
    "  },\n",
    "  {\n",
    "    \"category\": \"HARM_CATEGORY_DANGEROUS_CONTENT\",\n",
    "    \"threshold\": \"BLOCK_MEDIUM_AND_ABOVE\"\n",
    "  },\n",
    "]\n",
    "\n",
    "system_instruction = \"You are an immigration lawyer whose sole task is to help students immigrate to other countries. You are kind, patient, and understand the anxiety of the fears of the student. As such, your responses are thought-out and measured. Your task is to create a checklist of what the student needs to achieve/accomplish:\"\n",
    "\n",
    "model = genai.GenerativeModel(model_name=\"gemini-1.5-pro-latest\",\n",
    "                              generation_config=generation_config,\n",
    "                              system_instruction=system_instruction,\n",
    "                              safety_settings=safety_settings)\n"
   ]
  },
  {
   "cell_type": "code",
   "execution_count": 36,
   "metadata": {},
   "outputs": [
    {
     "ename": "ResourceExhausted",
     "evalue": "429 Resource has been exhausted (e.g. check quota).",
     "output_type": "error",
     "traceback": [
      "\u001b[1;31m---------------------------------------------------------------------------\u001b[0m",
      "\u001b[1;31mResourceExhausted\u001b[0m                         Traceback (most recent call last)",
      "Cell \u001b[1;32mIn[36], line 6\u001b[0m\n\u001b[0;32m      1\u001b[0m prompt_parts \u001b[38;5;241m=\u001b[39m [\n\u001b[0;32m      2\u001b[0m \u001b[38;5;250m  \u001b[39m\u001b[38;5;124;03m'''The student will be going to UT Austin in the August of 2024 pursuing a Master's in Computer Science. The student is looking to apply to a university program in United States. They are not planning to attend any other academic programs in the United States. They will not be enrolled as a full-time student. Their level of English proficiency is Beginner. They have not taken any TOEFL/IELTS exam. They do not have any English courses they've signed up for attaining English proficiency. They have not participated in any other activities that demonstrate your English proficiency (e.g., English-taught academic programs, work experience in an English-speaking environment).\\n\\n\\n\\nUse the F-1 VIsa requirements given below:\\n\\\"\\nHome > Working in the United States > Students and Exchange Visitors > Students and Employment\\nStudents and Employment\\nALERT: Please remember that photos submitted to USCIS must be unmounted and unretouched. Unretouched means the photos must not be edited or digitally enhanced. The submission of any mounted or retouched images will delay the processing of your application and may prompt USCIS to require that you appear at an Applicant Support Center to verify your identity.\\nIf you would like to study as a full-time student in the United States, you will generally need a student visa.\\nThere are two nonimmigrant visa categories for persons wishing to study in the United States. These visas are commonly known as the F and M visas.\\nYou may enter in the F-1 or M-1 visa category provided you meet the following criteria:\\nYou must be enrolled in an \\\"academic\\\" educational program, a language-training program, or a vocational program\\nYour school must be approved by the Student and Exchange Visitors Program, Immigration & Customs Enforcement\\nYou must be enrolled as a full-time student at the institution\\nYou must be proficient in English or be enrolled in courses leading to English proficiency\\nYou must have sufficient funds available for self-support during the entire proposed course of study\\nYou must maintain a residence abroad which you have no intention of giving up.\\nF-1 Student Visa\\nThe F-1 Visa (Academic Student) allows you to enter the United States as a full-time student at an accredited college, university, seminary, conservatory, academic high school, elementary school, or other academic institution or in a language training program. You must be enrolled in a program or course of study that culminates in a degree, diploma, or certificate and your school must be authorized by the U.S. government to accept international students.\\nM-1 Student Visa\\nThe M-1 visa (Vocational Student) category includes students in vocational or other nonacademic programs, other than language training.\\nMENU\\nPage 2\\nEmployment\\nF-1 students may not work off-campus during the first academic year, but may accept on-campus employment subject to certain conditions and restrictions. After the first academic year, F-1 students may engage in three types of off-campus employment:\\nCurricular Practical Training (CPT)\\nOptional Practical Training (OPT) (pre-completion or post-completion)\\nScience, Technology, Engineering, and Mathematics (STEM) Optional Practical Training Extension (OPT)\\nF-1 students may also be eligible to work off-campus on a case-by-case basis as a result of special situations such as severe economic hardship or special student relief. M-1 students may engage in practical training only after they have completed their studies.\\nFor both F-1 and M-1 students any off-campus training employment must be related to their area of study and must be authorized prior to starting any work by the Designated School Official (the person authorized to maintain the Student and Exchange Visitor Information System (SEVIS)) and USCIS.\\nFor more information on the Student and Exchange Visitors Program, see the Student & Exchange Visitor Program, Immigration & Customs Enforcement and the Study in the States Training Opportunities in the United States pages.\\nIn general, only noncitizens who have permission from DHS to work can apply for a Social Security number.  Find additional information about  International Students and Social Security Numbers (PDF) on the Social Security Administration website.\\nSpecial Instructions\\nIf you are interested in changing to F or M Student Status, see the Changing to a Nonimmigrant F or M Student Status page.\\nLast Reviewed/Updated: 03/27/2024\\\"\\n\\nCheck the student's information with above information and detail a checklist about what the student still needs to do to get the F1 Visa. Make these items into a to-do list. If there is a violation between the information and rules, make that the first checklist item. Give each checklist item an priority based off the student's information. \u001b[39;00m\n\u001b[0;32m      3\u001b[0m \u001b[38;5;124;03m  Output should be in JSON format:\\n\\n{\\n\\\"Task\\\": ,\\n\\\"Priority\\\":  ,\\n\\\"Description\\\": \\n}\\n\\nand make a list of these JSONs with no title:'''\u001b[39;00m\n\u001b[0;32m      4\u001b[0m ]\n\u001b[1;32m----> 6\u001b[0m response \u001b[38;5;241m=\u001b[39m \u001b[43mmodel\u001b[49m\u001b[38;5;241;43m.\u001b[39;49m\u001b[43mgenerate_content\u001b[49m\u001b[43m(\u001b[49m\u001b[43mprompt_parts\u001b[49m\u001b[43m,\u001b[49m\u001b[43m \u001b[49m\u001b[43mstream\u001b[49m\u001b[38;5;241;43m=\u001b[39;49m\u001b[38;5;28;43;01mTrue\u001b[39;49;00m\u001b[43m)\u001b[49m\n\u001b[0;32m      7\u001b[0m \u001b[38;5;28mprint\u001b[39m(response\u001b[38;5;241m.\u001b[39mtext)\n",
      "File \u001b[1;32mc:\\2024\\google-ai-hack\\venv\\lib\\site-packages\\google\\generativeai\\generative_models.py:256\u001b[0m, in \u001b[0;36mGenerativeModel.generate_content\u001b[1;34m(self, contents, generation_config, safety_settings, stream, tools, tool_config, request_options)\u001b[0m\n\u001b[0;32m    254\u001b[0m \u001b[38;5;28;01mif\u001b[39;00m stream:\n\u001b[0;32m    255\u001b[0m     \u001b[38;5;28;01mwith\u001b[39;00m generation_types\u001b[38;5;241m.\u001b[39mrewrite_stream_error():\n\u001b[1;32m--> 256\u001b[0m         iterator \u001b[38;5;241m=\u001b[39m \u001b[38;5;28mself\u001b[39m\u001b[38;5;241m.\u001b[39m_client\u001b[38;5;241m.\u001b[39mstream_generate_content(\n\u001b[0;32m    257\u001b[0m             request,\n\u001b[0;32m    258\u001b[0m             \u001b[38;5;241m*\u001b[39m\u001b[38;5;241m*\u001b[39mrequest_options,\n\u001b[0;32m    259\u001b[0m         )\n\u001b[0;32m    260\u001b[0m     \u001b[38;5;28;01mreturn\u001b[39;00m generation_types\u001b[38;5;241m.\u001b[39mGenerateContentResponse\u001b[38;5;241m.\u001b[39mfrom_iterator(iterator)\n\u001b[0;32m    261\u001b[0m \u001b[38;5;28;01melse\u001b[39;00m:\n",
      "File \u001b[1;32mc:\\2024\\google-ai-hack\\venv\\lib\\site-packages\\google\\ai\\generativelanguage_v1beta\\services\\generative_service\\client.py:1090\u001b[0m, in \u001b[0;36mGenerativeServiceClient.stream_generate_content\u001b[1;34m(self, request, model, contents, retry, timeout, metadata)\u001b[0m\n\u001b[0;32m   1087\u001b[0m \u001b[38;5;28mself\u001b[39m\u001b[38;5;241m.\u001b[39m_validate_universe_domain()\n\u001b[0;32m   1089\u001b[0m \u001b[38;5;66;03m# Send the request.\u001b[39;00m\n\u001b[1;32m-> 1090\u001b[0m response \u001b[38;5;241m=\u001b[39m \u001b[43mrpc\u001b[49m\u001b[43m(\u001b[49m\n\u001b[0;32m   1091\u001b[0m \u001b[43m    \u001b[49m\u001b[43mrequest\u001b[49m\u001b[43m,\u001b[49m\n\u001b[0;32m   1092\u001b[0m \u001b[43m    \u001b[49m\u001b[43mretry\u001b[49m\u001b[38;5;241;43m=\u001b[39;49m\u001b[43mretry\u001b[49m\u001b[43m,\u001b[49m\n\u001b[0;32m   1093\u001b[0m \u001b[43m    \u001b[49m\u001b[43mtimeout\u001b[49m\u001b[38;5;241;43m=\u001b[39;49m\u001b[43mtimeout\u001b[49m\u001b[43m,\u001b[49m\n\u001b[0;32m   1094\u001b[0m \u001b[43m    \u001b[49m\u001b[43mmetadata\u001b[49m\u001b[38;5;241;43m=\u001b[39;49m\u001b[43mmetadata\u001b[49m\u001b[43m,\u001b[49m\n\u001b[0;32m   1095\u001b[0m \u001b[43m\u001b[49m\u001b[43m)\u001b[49m\n\u001b[0;32m   1097\u001b[0m \u001b[38;5;66;03m# Done; return the response.\u001b[39;00m\n\u001b[0;32m   1098\u001b[0m \u001b[38;5;28;01mreturn\u001b[39;00m response\n",
      "File \u001b[1;32mc:\\2024\\google-ai-hack\\venv\\lib\\site-packages\\google\\api_core\\gapic_v1\\method.py:131\u001b[0m, in \u001b[0;36m_GapicCallable.__call__\u001b[1;34m(self, timeout, retry, compression, *args, **kwargs)\u001b[0m\n\u001b[0;32m    128\u001b[0m \u001b[38;5;28;01mif\u001b[39;00m \u001b[38;5;28mself\u001b[39m\u001b[38;5;241m.\u001b[39m_compression \u001b[38;5;129;01mis\u001b[39;00m \u001b[38;5;129;01mnot\u001b[39;00m \u001b[38;5;28;01mNone\u001b[39;00m:\n\u001b[0;32m    129\u001b[0m     kwargs[\u001b[38;5;124m\"\u001b[39m\u001b[38;5;124mcompression\u001b[39m\u001b[38;5;124m\"\u001b[39m] \u001b[38;5;241m=\u001b[39m compression\n\u001b[1;32m--> 131\u001b[0m \u001b[38;5;28;01mreturn\u001b[39;00m wrapped_func(\u001b[38;5;241m*\u001b[39margs, \u001b[38;5;241m*\u001b[39m\u001b[38;5;241m*\u001b[39mkwargs)\n",
      "File \u001b[1;32mc:\\2024\\google-ai-hack\\venv\\lib\\site-packages\\google\\api_core\\retry\\retry_unary.py:293\u001b[0m, in \u001b[0;36mRetry.__call__.<locals>.retry_wrapped_func\u001b[1;34m(*args, **kwargs)\u001b[0m\n\u001b[0;32m    289\u001b[0m target \u001b[38;5;241m=\u001b[39m functools\u001b[38;5;241m.\u001b[39mpartial(func, \u001b[38;5;241m*\u001b[39margs, \u001b[38;5;241m*\u001b[39m\u001b[38;5;241m*\u001b[39mkwargs)\n\u001b[0;32m    290\u001b[0m sleep_generator \u001b[38;5;241m=\u001b[39m exponential_sleep_generator(\n\u001b[0;32m    291\u001b[0m     \u001b[38;5;28mself\u001b[39m\u001b[38;5;241m.\u001b[39m_initial, \u001b[38;5;28mself\u001b[39m\u001b[38;5;241m.\u001b[39m_maximum, multiplier\u001b[38;5;241m=\u001b[39m\u001b[38;5;28mself\u001b[39m\u001b[38;5;241m.\u001b[39m_multiplier\n\u001b[0;32m    292\u001b[0m )\n\u001b[1;32m--> 293\u001b[0m \u001b[38;5;28;01mreturn\u001b[39;00m \u001b[43mretry_target\u001b[49m\u001b[43m(\u001b[49m\n\u001b[0;32m    294\u001b[0m \u001b[43m    \u001b[49m\u001b[43mtarget\u001b[49m\u001b[43m,\u001b[49m\n\u001b[0;32m    295\u001b[0m \u001b[43m    \u001b[49m\u001b[38;5;28;43mself\u001b[39;49m\u001b[38;5;241;43m.\u001b[39;49m\u001b[43m_predicate\u001b[49m\u001b[43m,\u001b[49m\n\u001b[0;32m    296\u001b[0m \u001b[43m    \u001b[49m\u001b[43msleep_generator\u001b[49m\u001b[43m,\u001b[49m\n\u001b[0;32m    297\u001b[0m \u001b[43m    \u001b[49m\u001b[43mtimeout\u001b[49m\u001b[38;5;241;43m=\u001b[39;49m\u001b[38;5;28;43mself\u001b[39;49m\u001b[38;5;241;43m.\u001b[39;49m\u001b[43m_timeout\u001b[49m\u001b[43m,\u001b[49m\n\u001b[0;32m    298\u001b[0m \u001b[43m    \u001b[49m\u001b[43mon_error\u001b[49m\u001b[38;5;241;43m=\u001b[39;49m\u001b[43mon_error\u001b[49m\u001b[43m,\u001b[49m\n\u001b[0;32m    299\u001b[0m \u001b[43m\u001b[49m\u001b[43m)\u001b[49m\n",
      "File \u001b[1;32mc:\\2024\\google-ai-hack\\venv\\lib\\site-packages\\google\\api_core\\retry\\retry_unary.py:153\u001b[0m, in \u001b[0;36mretry_target\u001b[1;34m(target, predicate, sleep_generator, timeout, on_error, exception_factory, **kwargs)\u001b[0m\n\u001b[0;32m    149\u001b[0m \u001b[38;5;66;03m# pylint: disable=broad-except\u001b[39;00m\n\u001b[0;32m    150\u001b[0m \u001b[38;5;66;03m# This function explicitly must deal with broad exceptions.\u001b[39;00m\n\u001b[0;32m    151\u001b[0m \u001b[38;5;28;01mexcept\u001b[39;00m \u001b[38;5;167;01mException\u001b[39;00m \u001b[38;5;28;01mas\u001b[39;00m exc:\n\u001b[0;32m    152\u001b[0m     \u001b[38;5;66;03m# defer to shared logic for handling errors\u001b[39;00m\n\u001b[1;32m--> 153\u001b[0m     \u001b[43m_retry_error_helper\u001b[49m\u001b[43m(\u001b[49m\n\u001b[0;32m    154\u001b[0m \u001b[43m        \u001b[49m\u001b[43mexc\u001b[49m\u001b[43m,\u001b[49m\n\u001b[0;32m    155\u001b[0m \u001b[43m        \u001b[49m\u001b[43mdeadline\u001b[49m\u001b[43m,\u001b[49m\n\u001b[0;32m    156\u001b[0m \u001b[43m        \u001b[49m\u001b[43msleep\u001b[49m\u001b[43m,\u001b[49m\n\u001b[0;32m    157\u001b[0m \u001b[43m        \u001b[49m\u001b[43merror_list\u001b[49m\u001b[43m,\u001b[49m\n\u001b[0;32m    158\u001b[0m \u001b[43m        \u001b[49m\u001b[43mpredicate\u001b[49m\u001b[43m,\u001b[49m\n\u001b[0;32m    159\u001b[0m \u001b[43m        \u001b[49m\u001b[43mon_error\u001b[49m\u001b[43m,\u001b[49m\n\u001b[0;32m    160\u001b[0m \u001b[43m        \u001b[49m\u001b[43mexception_factory\u001b[49m\u001b[43m,\u001b[49m\n\u001b[0;32m    161\u001b[0m \u001b[43m        \u001b[49m\u001b[43mtimeout\u001b[49m\u001b[43m,\u001b[49m\n\u001b[0;32m    162\u001b[0m \u001b[43m    \u001b[49m\u001b[43m)\u001b[49m\n\u001b[0;32m    163\u001b[0m     \u001b[38;5;66;03m# if exception not raised, sleep before next attempt\u001b[39;00m\n\u001b[0;32m    164\u001b[0m     time\u001b[38;5;241m.\u001b[39msleep(sleep)\n",
      "File \u001b[1;32mc:\\2024\\google-ai-hack\\venv\\lib\\site-packages\\google\\api_core\\retry\\retry_base.py:212\u001b[0m, in \u001b[0;36m_retry_error_helper\u001b[1;34m(exc, deadline, next_sleep, error_list, predicate_fn, on_error_fn, exc_factory_fn, original_timeout)\u001b[0m\n\u001b[0;32m    206\u001b[0m \u001b[38;5;28;01mif\u001b[39;00m \u001b[38;5;129;01mnot\u001b[39;00m predicate_fn(exc):\n\u001b[0;32m    207\u001b[0m     final_exc, source_exc \u001b[38;5;241m=\u001b[39m exc_factory_fn(\n\u001b[0;32m    208\u001b[0m         error_list,\n\u001b[0;32m    209\u001b[0m         RetryFailureReason\u001b[38;5;241m.\u001b[39mNON_RETRYABLE_ERROR,\n\u001b[0;32m    210\u001b[0m         original_timeout,\n\u001b[0;32m    211\u001b[0m     )\n\u001b[1;32m--> 212\u001b[0m     \u001b[38;5;28;01mraise\u001b[39;00m final_exc \u001b[38;5;28;01mfrom\u001b[39;00m \u001b[38;5;21;01msource_exc\u001b[39;00m\n\u001b[0;32m    213\u001b[0m \u001b[38;5;28;01mif\u001b[39;00m on_error_fn \u001b[38;5;129;01mis\u001b[39;00m \u001b[38;5;129;01mnot\u001b[39;00m \u001b[38;5;28;01mNone\u001b[39;00m:\n\u001b[0;32m    214\u001b[0m     on_error_fn(exc)\n",
      "File \u001b[1;32mc:\\2024\\google-ai-hack\\venv\\lib\\site-packages\\google\\api_core\\retry\\retry_unary.py:144\u001b[0m, in \u001b[0;36mretry_target\u001b[1;34m(target, predicate, sleep_generator, timeout, on_error, exception_factory, **kwargs)\u001b[0m\n\u001b[0;32m    142\u001b[0m \u001b[38;5;28;01mfor\u001b[39;00m sleep \u001b[38;5;129;01min\u001b[39;00m sleep_generator:\n\u001b[0;32m    143\u001b[0m     \u001b[38;5;28;01mtry\u001b[39;00m:\n\u001b[1;32m--> 144\u001b[0m         result \u001b[38;5;241m=\u001b[39m \u001b[43mtarget\u001b[49m\u001b[43m(\u001b[49m\u001b[43m)\u001b[49m\n\u001b[0;32m    145\u001b[0m         \u001b[38;5;28;01mif\u001b[39;00m inspect\u001b[38;5;241m.\u001b[39misawaitable(result):\n\u001b[0;32m    146\u001b[0m             warnings\u001b[38;5;241m.\u001b[39mwarn(_ASYNC_RETRY_WARNING)\n",
      "File \u001b[1;32mc:\\2024\\google-ai-hack\\venv\\lib\\site-packages\\google\\api_core\\timeout.py:120\u001b[0m, in \u001b[0;36mTimeToDeadlineTimeout.__call__.<locals>.func_with_timeout\u001b[1;34m(*args, **kwargs)\u001b[0m\n\u001b[0;32m    117\u001b[0m     \u001b[38;5;66;03m# Avoid setting negative timeout\u001b[39;00m\n\u001b[0;32m    118\u001b[0m     kwargs[\u001b[38;5;124m\"\u001b[39m\u001b[38;5;124mtimeout\u001b[39m\u001b[38;5;124m\"\u001b[39m] \u001b[38;5;241m=\u001b[39m \u001b[38;5;28mmax\u001b[39m(\u001b[38;5;241m0\u001b[39m, \u001b[38;5;28mself\u001b[39m\u001b[38;5;241m.\u001b[39m_timeout \u001b[38;5;241m-\u001b[39m time_since_first_attempt)\n\u001b[1;32m--> 120\u001b[0m \u001b[38;5;28;01mreturn\u001b[39;00m func(\u001b[38;5;241m*\u001b[39margs, \u001b[38;5;241m*\u001b[39m\u001b[38;5;241m*\u001b[39mkwargs)\n",
      "File \u001b[1;32mc:\\2024\\google-ai-hack\\venv\\lib\\site-packages\\google\\api_core\\grpc_helpers.py:174\u001b[0m, in \u001b[0;36m_wrap_stream_errors.<locals>.error_remapped_callable\u001b[1;34m(*args, **kwargs)\u001b[0m\n\u001b[0;32m    170\u001b[0m     \u001b[38;5;28;01mreturn\u001b[39;00m _StreamingResponseIterator(\n\u001b[0;32m    171\u001b[0m         result, prefetch_first_result\u001b[38;5;241m=\u001b[39mprefetch_first\n\u001b[0;32m    172\u001b[0m     )\n\u001b[0;32m    173\u001b[0m \u001b[38;5;28;01mexcept\u001b[39;00m grpc\u001b[38;5;241m.\u001b[39mRpcError \u001b[38;5;28;01mas\u001b[39;00m exc:\n\u001b[1;32m--> 174\u001b[0m     \u001b[38;5;28;01mraise\u001b[39;00m exceptions\u001b[38;5;241m.\u001b[39mfrom_grpc_error(exc) \u001b[38;5;28;01mfrom\u001b[39;00m \u001b[38;5;21;01mexc\u001b[39;00m\n",
      "\u001b[1;31mResourceExhausted\u001b[0m: 429 Resource has been exhausted (e.g. check quota)."
     ]
    }
   ],
   "source": [
    "prompt_parts = [\n",
    "  '''The student will be going to UT Austin in the August of 2024 pursuing a Master's in Computer Science. The student is looking to apply to a university program in United States. They are not planning to attend any other academic programs in the United States. They will not be enrolled as a full-time student. Their level of English proficiency is Beginner. They have not taken any TOEFL/IELTS exam. They do not have any English courses they've signed up for attaining English proficiency. They have not participated in any other activities that demonstrate your English proficiency (e.g., English-taught academic programs, work experience in an English-speaking environment).\\n\\n\\n\\nUse the F-1 VIsa requirements given below:\\n\\\"\\nHome > Working in the United States > Students and Exchange Visitors > Students and Employment\\nStudents and Employment\\nALERT: Please remember that photos submitted to USCIS must be unmounted and unretouched. Unretouched means the photos must not be edited or digitally enhanced. The submission of any mounted or retouched images will delay the processing of your application and may prompt USCIS to require that you appear at an Applicant Support Center to verify your identity.\\nIf you would like to study as a full-time student in the United States, you will generally need a student visa.\\nThere are two nonimmigrant visa categories for persons wishing to study in the United States. These visas are commonly known as the F and M visas.\\nYou may enter in the F-1 or M-1 visa category provided you meet the following criteria:\\nYou must be enrolled in an \\\"academic\\\" educational program, a language-training program, or a vocational program\\nYour school must be approved by the Student and Exchange Visitors Program, Immigration & Customs Enforcement\\nYou must be enrolled as a full-time student at the institution\\nYou must be proficient in English or be enrolled in courses leading to English proficiency\\nYou must have sufficient funds available for self-support during the entire proposed course of study\\nYou must maintain a residence abroad which you have no intention of giving up.\\nF-1 Student Visa\\nThe F-1 Visa (Academic Student) allows you to enter the United States as a full-time student at an accredited college, university, seminary, conservatory, academic high school, elementary school, or other academic institution or in a language training program. You must be enrolled in a program or course of study that culminates in a degree, diploma, or certificate and your school must be authorized by the U.S. government to accept international students.\\nM-1 Student Visa\\nThe M-1 visa (Vocational Student) category includes students in vocational or other nonacademic programs, other than language training.\\nMENU\\nPage 2\\nEmployment\\nF-1 students may not work off-campus during the first academic year, but may accept on-campus employment subject to certain conditions and restrictions. After the first academic year, F-1 students may engage in three types of off-campus employment:\\nCurricular Practical Training (CPT)\\nOptional Practical Training (OPT) (pre-completion or post-completion)\\nScience, Technology, Engineering, and Mathematics (STEM) Optional Practical Training Extension (OPT)\\nF-1 students may also be eligible to work off-campus on a case-by-case basis as a result of special situations such as severe economic hardship or special student relief. M-1 students may engage in practical training only after they have completed their studies.\\nFor both F-1 and M-1 students any off-campus training employment must be related to their area of study and must be authorized prior to starting any work by the Designated School Official (the person authorized to maintain the Student and Exchange Visitor Information System (SEVIS)) and USCIS.\\nFor more information on the Student and Exchange Visitors Program, see the Student & Exchange Visitor Program, Immigration & Customs Enforcement and the Study in the States Training Opportunities in the United States pages.\\nIn general, only noncitizens who have permission from DHS to work can apply for a Social Security number.  Find additional information about  International Students and Social Security Numbers (PDF) on the Social Security Administration website.\\nSpecial Instructions\\nIf you are interested in changing to F or M Student Status, see the Changing to a Nonimmigrant F or M Student Status page.\\nLast Reviewed/Updated: 03/27/2024\\\"\\n\\nCheck the student's information with above information and detail a checklist about what the student still needs to do to get the F1 Visa. Make these items into a to-do list. If there is a violation between the information and rules, make that the first checklist item. Give each checklist item an priority based off the student's information. \n",
    "  Output should be in JSON format:\\n\\n{\\n\\\"Task\\\": ,\\n\\\"Priority\\\":  ,\\n\\\"Description\\\": \\n}\\n\\nand make a list of these JSONs with no title:'''\n",
    "]\n",
    "\n",
    "response = model.generate_content(prompt_parts)\n",
    "print(response.text)"
   ]
  },
  {
   "cell_type": "code",
   "execution_count": 32,
   "metadata": {},
   "outputs": [
    {
     "name": "stdout",
     "output_type": "stream",
     "text": [
      "The F-1 visa requires full-time enrollment, but you mentioned not planning to be a full-time student. Explore options with UT Austin to ensure you meet the full-time status requirement for international students.\n"
     ]
    }
   ],
   "source": [
    "actual_response = response.text\n",
    "actual_response = actual_response.replace(\"```json\", \"\")\n",
    "actual_response = actual_response.replace(\"```\", \"\")\n",
    "\n",
    "\n",
    "import json\n",
    "\n",
    "json_data = actual_response\n",
    "python_object = json.loads(json_data)\n",
    "print(python_object[0][\"Description\"])"
   ]
  },
  {
   "cell_type": "code",
   "execution_count": 20,
   "metadata": {},
   "outputs": [
    {
     "name": "stdout",
     "output_type": "stream",
     "text": [
      "CPU times: total: 0 ns\n",
      "Wall time: 847 ms\n"
     ]
    }
   ],
   "source": [
    "%%time\n",
    "response = model.generate_content(\"What is the meaning of life?\", stream=True)"
   ]
  },
  {
   "cell_type": "code",
   "execution_count": 21,
   "metadata": {},
   "outputs": [
    {
     "name": "stdout",
     "output_type": "stream",
     "text": [
      "The meaning of life is a deeply personal and philosophical question that has been pondered by\n",
      "________________________________________________________________________________\n",
      " thinkers, philosophers, and individuals throughout history. There is no single, universally accepted answer, as the meaning of life can vary greatly depending on an individual's\n",
      "________________________________________________________________________________\n",
      " values, beliefs, experiences, and cultural context.\n",
      "\n",
      "**Some common perspectives on the meaning of life include:**\n",
      "\n",
      "* **Eudaimonia (flourishing):** The ancient Greek concept of eudaimonia, often translated as \"happiness\" or \"well-being,\" refers to a state of living in accordance\n",
      "________________________________________________________________________________\n",
      " with one's virtues, values, and purpose. This view emphasizes the importance of living a life of excellence, meaningfulness, and fulfillment.\n",
      "\n",
      "* **Hedonism:** Hedonism suggests that the meaning of life lies in the pursuit of pleasure. This perspective focuses on maximizing positive experiences and minimizing pain or suffering.\n",
      "\n",
      "* **Purpose-driven life:** Many people find meaning in life through their work, relationships, or other activities that give them a sense of purpose and accomplishment. This could involve pursuing a career that is meaningful to them, contributing to society through charitable work, or caring for loved ones.\n",
      "\n",
      "* **Spiritual fulfillment\n",
      "________________________________________________________________________________\n",
      ":** Some individuals find meaning in life through spiritual practices, such as meditation, prayer, or religious devotion. This perspective emphasizes the connection to a higher power or a greater purpose beyond oneself.\n",
      "\n",
      "* **Legacy and impact:** For some, the meaning of life is tied to leaving a lasting legacy or making a positive impact on the world. This could involve creating art, writing, or engaging in social or environmental activism.\n",
      "\n",
      "* **No inherent meaning:** Some existentialists argue that life has no inherent meaning and that it is up to individuals to create their own meaning through their choices and actions. This perspective emphasizes personal responsibility and authenticity.\n",
      "\n",
      "**Other Perspectives:**\n",
      "\n",
      "* **Scientific:** Some scientists approach the meaning of life from a biological or evolutionary perspective, suggesting that it is related to survival, reproduction, and the continuation of the species.\n",
      "\n",
      "* **Sociological:** Sociologists may explore the meaning of life within the context of social structures, cultural norms, and societal expectations.\n",
      "\n",
      "* **Psychological:** Psychologists may examine the relationship between meaning and well-being, exploring how a sense of purpose and meaning can contribute to psychological health and happiness.\n",
      "\n",
      "Ultimately, the meaning of life is a deeply personal journey that is unique to each individual. There is no right or wrong answer,\n",
      "________________________________________________________________________________\n",
      " and it can evolve and change over time. By reflecting on our values, beliefs, experiences, and aspirations, we can strive to create a life that is meaningful and fulfilling to us.\n",
      "________________________________________________________________________________\n"
     ]
    }
   ],
   "source": [
    "for chunk in response:\n",
    "  print(chunk.text)\n",
    "  print(\"_\"*80)"
   ]
  },
  {
   "cell_type": "code",
   "execution_count": 16,
   "metadata": {},
   "outputs": [
    {
     "data": {
      "text/markdown": [
       "> **Philosophical Perspectives:**\n",
       "> \n",
       "> * **Existentialism:** Life has no inherent meaning, and individuals must create their own.\n",
       "> * **Absurdism:** Life is fundamentally meaningless, and humans must confront this absurdity.\n",
       "> * **Nihilism:** Life is completely without purpose or value.\n",
       "> * **Hedonism:** Life's primary goal is to maximize pleasure and minimize pain.\n",
       "> * **Utilitarianism:** The meaning of life lies in maximizing happiness and minimizing suffering for all.\n",
       "> * **Stoicism:** Life's meaning is found in living in accordance with nature, reason, and virtue.\n",
       "> * **Buddhism:** Life's ultimate goal is to achieve enlightenment and end the cycle of suffering.\n",
       "> \n",
       "> **Religious Perspectives:**\n",
       "> \n",
       "> * **Christianity, Islam, Judaism:** Life is a gift from God, and its meaning is to serve and worship Him.\n",
       "> * **Hinduism:** Life is a cycle of reincarnation, and its ultimate goal is to achieve moksha (liberation from the cycle).\n",
       "> * **Sikhism:** Life's purpose is to live with honesty, integrity, and compassion.\n",
       "> \n",
       "> **Scientific Perspectives:**\n",
       "> \n",
       "> * **Evolutionary Biology:** Humans are the result of natural selection, and their purpose is to maximize their reproductive fitness.\n",
       "> * **Cognitive Science:** Humans are meaning-making creatures, and our lives derive meaning from our beliefs, values, and social interactions.\n",
       "> \n",
       "> **Other Views:**\n",
       "> \n",
       "> * **Personalist Perspective:** Life's meaning is unique to each individual and can only be discovered through introspection and self-exploration.\n",
       "> * **Social Connection:** Life's meaning is found in forming relationships and contributing to society.\n",
       "> * **Purposeful Work:** Life's meaning is derived from engaging in activities that align with our passions and values.\n",
       "> * **Legacy:** Life's meaning is in leaving a lasting impact on the world and inspiring future generations.\n",
       "> \n",
       "> **Conclusion:**\n",
       "> \n",
       "> The meaning of life is a highly subjective and personal question. Different perspectives offer varying interpretations, ranging from the pursuit of pleasure to the fulfillment of divine purpose. Ultimately, the meaning of life is what each individual chooses to make it."
      ],
      "text/plain": [
       "<IPython.core.display.Markdown object>"
      ]
     },
     "execution_count": 16,
     "metadata": {},
     "output_type": "execute_result"
    }
   ],
   "source": [
    "import textwrap\n",
    "from IPython.display import Markdown\n",
    "\n",
    "def to_markdown(text):\n",
    "  text = text.replace('•', '  *')\n",
    "  return Markdown(textwrap.indent(text, '> ', predicate=lambda _: True))\n",
    "\n",
    "to_markdown(response.text)"
   ]
  }
 ],
 "metadata": {
  "kernelspec": {
   "display_name": "venv",
   "language": "python",
   "name": "python3"
  },
  "language_info": {
   "codemirror_mode": {
    "name": "ipython",
    "version": 3
   },
   "file_extension": ".py",
   "mimetype": "text/x-python",
   "name": "python",
   "nbconvert_exporter": "python",
   "pygments_lexer": "ipython3",
   "version": "3.10.11"
  }
 },
 "nbformat": 4,
 "nbformat_minor": 2
}
