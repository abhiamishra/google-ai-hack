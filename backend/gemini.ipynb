{
 "cells": [
  {
   "cell_type": "code",
   "execution_count": 40,
   "metadata": {},
   "outputs": [
    {
     "name": "stdout",
     "output_type": "stream",
     "text": [
      "models/gemini-1.0-pro\n",
      "models/gemini-1.0-pro-001\n",
      "models/gemini-1.0-pro-latest\n",
      "models/gemini-1.0-pro-vision-latest\n",
      "models/gemini-1.5-pro-latest\n",
      "models/gemini-pro\n",
      "models/gemini-pro-vision\n"
     ]
    }
   ],
   "source": [
    "import os\n",
    "from dotenv import load_dotenv\n",
    "\n",
    "# Load .env file\n",
    "load_dotenv()\n",
    "\n",
    "import google.generativeai as genai\n",
    "\n",
    "# Or use `os.getenv('GOOGLE_API_KEY')` to fetch an environment variable.\n",
    "GOOGLE_API_KEY=os.getenv('GOOGLE_API_KEY')\n",
    "\n",
    "genai.configure(api_key=GOOGLE_API_KEY)\n",
    "\n",
    "for m in genai.list_models():\n",
    "  if 'generateContent' in m.supported_generation_methods:\n",
    "    print(m.name)\n",
    "\n",
    "model = genai.GenerativeModel('gemini-pro')"
   ]
  },
  {
   "cell_type": "code",
   "execution_count": 41,
   "metadata": {},
   "outputs": [],
   "source": [
    "# Set up the model\n",
    "generation_config = {\n",
    "  \"temperature\": 1,\n",
    "  \"top_p\": 0.95,\n",
    "  \"top_k\": 0,\n",
    "  \"max_output_tokens\": 8192,\n",
    "}\n",
    "\n",
    "safety_settings = [\n",
    "  {\n",
    "    \"category\": \"HARM_CATEGORY_HARASSMENT\",\n",
    "    \"threshold\": \"BLOCK_MEDIUM_AND_ABOVE\"\n",
    "  },\n",
    "  {\n",
    "    \"category\": \"HARM_CATEGORY_HATE_SPEECH\",\n",
    "    \"threshold\": \"BLOCK_MEDIUM_AND_ABOVE\"\n",
    "  },\n",
    "  {\n",
    "    \"category\": \"HARM_CATEGORY_SEXUALLY_EXPLICIT\",\n",
    "    \"threshold\": \"BLOCK_MEDIUM_AND_ABOVE\"\n",
    "  },\n",
    "  {\n",
    "    \"category\": \"HARM_CATEGORY_DANGEROUS_CONTENT\",\n",
    "    \"threshold\": \"BLOCK_MEDIUM_AND_ABOVE\"\n",
    "  },\n",
    "]\n",
    "\n",
    "system_instruction = \"You are an immigration lawyer whose sole task is to help students immigrate to other countries. You are kind, patient, and understand the anxiety of the fears of the student. As such, your responses are thought-out and measured. Your task is to create a checklist of what the student needs to achieve/accomplish:\"\n",
    "\n",
    "model = genai.GenerativeModel(model_name=\"gemini-1.5-pro-latest\",\n",
    "                              generation_config=generation_config,\n",
    "                              system_instruction=system_instruction,\n",
    "                              safety_settings=safety_settings)\n"
   ]
  },
  {
   "cell_type": "code",
   "execution_count": 42,
   "metadata": {},
   "outputs": [
    {
     "name": "stdout",
     "output_type": "stream",
     "text": [
      "```json\n",
      "[\n",
      "  {\n",
      "    \"Task\": \"Address Full-Time Enrollment Requirement\",\n",
      "    \"Priority\": \"High\",\n",
      "    \"Description\": \"The F-1 visa requires full-time enrollment. Please confirm your program at UT Austin allows for full-time status. If not, explore alternative programs or visa options.\"\n",
      "  },\n",
      "  {\n",
      "    \"Task\": \"Improve English Proficiency\",\n",
      "    \"Priority\": \"High\",\n",
      "    \"Description\": \"The F-1 visa necessitates English proficiency. Consider enrolling in English language courses or pursuing recognized English proficiency exams like TOEFL or IELTS.\"\n",
      "  },\n",
      "  {\n",
      "    \"Task\": \"Investigate UT Austin's SEVP Approval\",\n",
      "    \"Priority\": \"High\",\n",
      "    \"Description\": \"Verify if UT Austin is authorized by the Student and Exchange Visitor Program (SEVP) to accept international students. This is crucial for F-1 visa eligibility.\"\n",
      "  },\n",
      "  {\n",
      "    \"Task\": \"Demonstrate Financial Resources\",\n",
      "    \"Priority\": \"High\",\n",
      "    \"Description\": \"Prepare documentation demonstrating sufficient funds to support yourself during your studies. This may include bank statements, scholarship letters, or sponsor affidavits.\"\n",
      "  },\n",
      "  {\n",
      "    \"Task\": \"Maintain Foreign Residence\",\n",
      "    \"Priority\": \"Medium\",\n",
      "    \"Description\": \"Ensure you have a residence outside the U.S. that you intend to maintain. This demonstrates your non-immigrant intent.\" \n",
      "  }\n",
      "]\n",
      "``` \n",
      "\n"
     ]
    }
   ],
   "source": [
    "prompt_parts = [\n",
    "  '''The student will be going to UT Austin in the August of 2024 pursuing a Master's in Computer Science. The student is looking to apply to a university program in United States. They are not planning to attend any other academic programs in the United States. They will not be enrolled as a full-time student. Their level of English proficiency is Beginner. They have not taken any TOEFL/IELTS exam. They do not have any English courses they've signed up for attaining English proficiency. They have not participated in any other activities that demonstrate your English proficiency (e.g., English-taught academic programs, work experience in an English-speaking environment).\\n\\n\\n\\nUse the F-1 VIsa requirements given below:\\n\\\"\\nHome > Working in the United States > Students and Exchange Visitors > Students and Employment\\nStudents and Employment\\nALERT: Please remember that photos submitted to USCIS must be unmounted and unretouched. Unretouched means the photos must not be edited or digitally enhanced. The submission of any mounted or retouched images will delay the processing of your application and may prompt USCIS to require that you appear at an Applicant Support Center to verify your identity.\\nIf you would like to study as a full-time student in the United States, you will generally need a student visa.\\nThere are two nonimmigrant visa categories for persons wishing to study in the United States. These visas are commonly known as the F and M visas.\\nYou may enter in the F-1 or M-1 visa category provided you meet the following criteria:\\nYou must be enrolled in an \\\"academic\\\" educational program, a language-training program, or a vocational program\\nYour school must be approved by the Student and Exchange Visitors Program, Immigration & Customs Enforcement\\nYou must be enrolled as a full-time student at the institution\\nYou must be proficient in English or be enrolled in courses leading to English proficiency\\nYou must have sufficient funds available for self-support during the entire proposed course of study\\nYou must maintain a residence abroad which you have no intention of giving up.\\nF-1 Student Visa\\nThe F-1 Visa (Academic Student) allows you to enter the United States as a full-time student at an accredited college, university, seminary, conservatory, academic high school, elementary school, or other academic institution or in a language training program. You must be enrolled in a program or course of study that culminates in a degree, diploma, or certificate and your school must be authorized by the U.S. government to accept international students.\\nM-1 Student Visa\\nThe M-1 visa (Vocational Student) category includes students in vocational or other nonacademic programs, other than language training.\\nMENU\\nPage 2\\nEmployment\\nF-1 students may not work off-campus during the first academic year, but may accept on-campus employment subject to certain conditions and restrictions. After the first academic year, F-1 students may engage in three types of off-campus employment:\\nCurricular Practical Training (CPT)\\nOptional Practical Training (OPT) (pre-completion or post-completion)\\nScience, Technology, Engineering, and Mathematics (STEM) Optional Practical Training Extension (OPT)\\nF-1 students may also be eligible to work off-campus on a case-by-case basis as a result of special situations such as severe economic hardship or special student relief. M-1 students may engage in practical training only after they have completed their studies.\\nFor both F-1 and M-1 students any off-campus training employment must be related to their area of study and must be authorized prior to starting any work by the Designated School Official (the person authorized to maintain the Student and Exchange Visitor Information System (SEVIS)) and USCIS.\\nFor more information on the Student and Exchange Visitors Program, see the Student & Exchange Visitor Program, Immigration & Customs Enforcement and the Study in the States Training Opportunities in the United States pages.\\nIn general, only noncitizens who have permission from DHS to work can apply for a Social Security number.  Find additional information about  International Students and Social Security Numbers (PDF) on the Social Security Administration website.\\nSpecial Instructions\\nIf you are interested in changing to F or M Student Status, see the Changing to a Nonimmigrant F or M Student Status page.\\nLast Reviewed/Updated: 03/27/2024\\\"\\n\\nCheck the student's information with above information and detail a checklist about what the student still needs to do to get the F1 Visa. Make these items into a to-do list. If there is a violation between the information and rules, make that the first checklist item. Give each checklist item an priority based off the student's information. \n",
    "  Output should be in JSON format:\\n\\n{\\n\\\"Task\\\": ,\\n\\\"Priority\\\":  ,\\n\\\"Description\\\": \\n}\\n\\nand make a list of these JSONs with no title:'''\n",
    "]\n",
    "\n",
    "response = model.generate_content(prompt_parts)\n",
    "print(response.text)"
   ]
  },
  {
   "cell_type": "code",
   "execution_count": 43,
   "metadata": {},
   "outputs": [
    {
     "name": "stdout",
     "output_type": "stream",
     "text": [
      "[{'Task': 'Address Full-Time Enrollment Requirement', 'Priority': 'High', 'Description': 'The F-1 visa requires full-time enrollment. Please confirm your program at UT Austin allows for full-time status. If not, explore alternative programs or visa options.'}, {'Task': 'Improve English Proficiency', 'Priority': 'High', 'Description': 'The F-1 visa necessitates English proficiency. Consider enrolling in English language courses or pursuing recognized English proficiency exams like TOEFL or IELTS.'}, {'Task': \"Investigate UT Austin's SEVP Approval\", 'Priority': 'High', 'Description': 'Verify if UT Austin is authorized by the Student and Exchange Visitor Program (SEVP) to accept international students. This is crucial for F-1 visa eligibility.'}, {'Task': 'Demonstrate Financial Resources', 'Priority': 'High', 'Description': 'Prepare documentation demonstrating sufficient funds to support yourself during your studies. This may include bank statements, scholarship letters, or sponsor affidavits.'}, {'Task': 'Maintain Foreign Residence', 'Priority': 'Medium', 'Description': 'Ensure you have a residence outside the U.S. that you intend to maintain. This demonstrates your non-immigrant intent.'}]\n"
     ]
    }
   ],
   "source": [
    "actual_response = response.text\n",
    "actual_response = actual_response.replace(\"```json\", \"\")\n",
    "actual_response = actual_response.replace(\"```\", \"\")\n",
    "\n",
    "\n",
    "import json\n",
    "\n",
    "json_data = actual_response\n",
    "python_object = json.loads(json_data)\n",
    "print(python_object)"
   ]
  },
  {
   "cell_type": "code",
   "execution_count": 44,
   "metadata": {},
   "outputs": [],
   "source": [
    "checklist = python_object"
   ]
  },
  {
   "cell_type": "code",
   "execution_count": 52,
   "metadata": {},
   "outputs": [],
   "source": [
    "checklist_str = json.dumps(checklist)\n",
    "school = \"UT Austin\"\n",
    "checklistStatement = \"Here is the checklist generated for the student: \" + checklist_str + \".\\n\"\n",
    "instructionStatement = '''Go through each task and make a to-do item list for each task - generating subtasks and give each of them a priority.\n",
    "                        Make these sub-tasks based off the information required to get a F1 visa and the university requirements for ''' +  school + \".\\n\"\n",
    "instructionStatement += \"The sub-tasks should be of the JSON format:\\n\\n{\\n\\\"Task\\\": ,\\n\\\"Priority\\\":  ,\\n\\\"Description\\\": \\n}\\n\\n and must exist under the original tasks in the original JSON and absolutely no title at all: \"\n",
    "prompt_parts = [\n",
    "            '''\\n\\n\\n\\nUse the F-1 VIsa requirements given below:\\n\\\"\\nHome > Working in the United States > Students and Exchange Visitors > Students and Employment\\nStudents and Employment\\nALERT: Please remember that photos submitted to USCIS must be unmounted and unretouched. Unretouched means the photos must not be edited or digitally enhanced. The submission of any mounted or retouched images will delay the processing of your application and may prompt USCIS to require that you appear at an Applicant Support Center to verify your identity.\\nIf you would like to study as a full-time student in the United States, you will generally need a student visa.\\nThere are two nonimmigrant visa categories for persons wishing to study in the United States. These visas are commonly known as the F and M visas.\\nYou may enter in the F-1 or M-1 visa category provided you meet the following criteria:\\nYou must be enrolled in an \\\"academic\\\" educational program, a language-training program, or a vocational program\\nYour school must be approved by the Student and Exchange Visitors Program, Immigration & Customs Enforcement\\nYou must be enrolled as a full-time student at the institution\\nYou must be proficient in English or be enrolled in courses leading to English proficiency\\nYou must have sufficient funds available for self-support during the entire proposed course of study\\nYou must maintain a residence abroad which you have no intention of giving up.\\nF-1 Student Visa\\nThe F-1 Visa (Academic Student) allows you to enter the United States as a full-time student at an accredited college, university, seminary, conservatory, academic high school, elementary school, or other academic institution or in a language training program. You must be enrolled in a program or course of study that culminates in a degree, diploma, or certificate and your school must be authorized by the U.S. government to accept international students.\\nM-1 Student Visa\\nThe M-1 visa (Vocational Student) category includes students in vocational or other nonacademic programs, other than language training.\\nMENU\\nPage 2\\nEmployment\\nF-1 students may not work off-campus during the first academic year, but may accept on-campus employment subject to certain conditions and restrictions. After the first academic year, F-1 students may engage in three types of off-campus employment:\\nCurricular Practical Training (CPT)\\nOptional Practical Training (OPT) (pre-completion or post-completion)\\nScience, Technology, Engineering, and Mathematics (STEM) Optional Practical Training Extension (OPT)\\nF-1 students may also be eligible to work off-campus on a case-by-case basis as a result of special situations such as severe economic hardship or special student relief. M-1 students may engage in practical training only after they have completed their studies.\\nFor both F-1 and M-1 students any off-campus training employment must be related to their area of study and must be authorized prior to starting any work by the Designated School Official (the person authorized to maintain the Student and Exchange Visitor Information System (SEVIS)) and USCIS.\\nFor more information on the Student and Exchange Visitors Program, see the Student & Exchange Visitor Program, Immigration & Customs Enforcement and the Study in the States Training Opportunities in the United States pages.\\nIn general, only noncitizens who have permission from DHS to work can apply for a Social Security number.  Find additional information about  International Students and Social Security Numbers (PDF) on the Social Security Administration website.\\nSpecial Instructions\\nIf you are interested in changing to F or M Student Status, see the Changing to a Nonimmigrant F or M Student Status page.\\nLast Reviewed/Updated: 03/27/2024''',\n",
    "            checklistStatement,\n",
    "            instructionStatement\n",
    "        ]\n",
    "response = model.generate_content(prompt_parts)"
   ]
  },
  {
   "cell_type": "code",
   "execution_count": 53,
   "metadata": {},
   "outputs": [
    {
     "name": "stdout",
     "output_type": "stream",
     "text": [
      "## F-1 Visa Checklist with Subtasks:\n",
      "\n",
      "```json\n",
      "[\n",
      "  {\n",
      "    \"Task\": \"Address Full-Time Enrollment Requirement\",\n",
      "    \"Priority\": \"High\",\n",
      "    \"Description\": \"The F-1 visa requires full-time enrollment. Please confirm your program at UT Austin allows for full-time status. If not, explore alternative programs or visa options.\",\n",
      "    \"Subtasks\": [\n",
      "      {\n",
      "        \"Task\": \"Research UT Austin Program Requirements\",\n",
      "        \"Priority\": \"High\",\n",
      "        \"Description\": \"Review the course catalog or contact your academic advisor to determine the credit hour requirements for full-time status in your chosen program.\"\n",
      "      },\n",
      "      {\n",
      "        \"Task\": \"Explore Alternative Programs (if needed)\",\n",
      "        \"Priority\": \"High\",\n",
      "        \"Description\": \"If your program doesn't offer full-time enrollment, research similar programs at UT Austin or other universities that meet the F-1 visa requirements.\"\n",
      "      }\n",
      "    ]\n",
      "  },\n",
      "  {\n",
      "    \"Task\": \"Improve English Proficiency\",\n",
      "    \"Priority\": \"High\",\n",
      "    \"Description\": \"The F-1 visa necessitates English proficiency. Consider enrolling in English language courses or pursuing recognized English proficiency exams like TOEFL or IELTS.\",\n",
      "    \"Subtasks\": [\n",
      "      {\n",
      "        \"Task\": \"Assess Current English Level\",\n",
      "        \"Priority\": \"High\",\n",
      "        \"Description\": \"Determine your current English proficiency through self-assessment or by taking an English language placement test.\"\n",
      "      },\n",
      "      {\n",
      "        \"Task\": \"Enroll in English Language Courses (if needed)\",\n",
      "        \"Priority\": \"High\",\n",
      "        \"Description\": \"If your English level requires improvement, research and enroll in English language courses offered by reputable institutions or online platforms.\" \n",
      "      },\n",
      "      {\n",
      "        \"Task\": \"Register for TOEFL or IELTS Exam (if needed)\",\n",
      "        \"Priority\": \"High\",\n",
      "        \"Description\": \"If your program requires a specific English proficiency score, register for the TOEFL or IELTS exam and begin preparing for the test.\"\n",
      "      }\n",
      "    ]\n",
      "  },\n",
      "  {\n",
      "    \"Task\": \"Investigate UT Austin's SEVP Approval\",\n",
      "    \"Priority\": \"High\",\n",
      "    \"Description\": \"Verify if UT Austin is authorized by the Student and Exchange Visitor Program (SEVP) to accept international students. This is crucial for F-1 visa eligibility.\",\n",
      "    \"Subtasks\": [\n",
      "      {\n",
      "        \"Task\": \"Visit the SEVP Website\",\n",
      "        \"Priority\": \"High\",\n",
      "        \"Description\": \"Go to the official SEVP website and use the 'Study in the States' school search tool to confirm UT Austin's SEVP certification.\"\n",
      "      },\n",
      "      {\n",
      "        \"Task\": \"Contact UT Austin's International Office\",\n",
      "        \"Priority\": \"Medium\",\n",
      "        \"Description\": \"Reach out to the International Office at UT Austin for further confirmation and guidance on the F-1 visa process.\" \n",
      "      }\n",
      "    ]\n",
      "  },\n",
      "  {\n",
      "    \"Task\": \"Demonstrate Financial Resources\",\n",
      "    \"Priority\": \"High\",\n",
      "    \"Description\": \"Prepare documentation demonstrating sufficient funds to support yourself during your studies. This may include bank statements, scholarship letters, or sponsor affidavits.\",\n",
      "    \"Subtasks\": [\n",
      "      {\n",
      "        \"Task\": \"Gather Financial Documents\",\n",
      "        \"Priority\": \"High\",\n",
      "        \"Description\": \"Collect bank statements, scholarship award letters, or financial support documents from sponsors to prove your ability to cover tuition fees and living expenses.\" \n",
      "      },\n",
      "      {\n",
      "        \"Task\": \"Research UT Austin's Cost of Attendance\",\n",
      "        \"Priority\": \"High\",\n",
      "        \"Description\": \"Visit UT Austin's website or contact the financial aid office to obtain an estimated cost of attendance, including tuition, fees, and living expenses.\"\n",
      "      },\n",
      "      {\n",
      "        \"Task\": \"Complete Financial Affidavit (if applicable)\",\n",
      "        \"Priority\": \"High\",\n",
      "        \"Description\": \"If you have a sponsor, ensure they complete the necessary financial affidavit forms and provide supporting documentation of their financial capability.\"\n",
      "      }\n",
      "    ]\n",
      "  },\n",
      "  {\n",
      "    \"Task\": \"Maintain Foreign Residence\",\n",
      "    \"Priority\": \"Medium\",\n",
      "    \"Description\": \"Ensure you have a residence outside the U.S. that you intend to maintain. This demonstrates your non-immigrant intent.\", \n",
      "    \"Subtasks\": [\n",
      "      {\n",
      "        \"Task\": \"Provide Proof of Foreign Residence\",\n",
      "        \"Priority\": \"Medium\",\n",
      "        \"Description\": \"Gather documents such as property deeds, rental agreements, or utility bills that demonstrate your ties to your home country.\" \n",
      "      }, \n",
      "      {\n",
      "        \"Task\": \"Prepare Explanation of Ties to Home Country\",\n",
      "        \"Priority\": \"Medium\",\n",
      "        \"Description\": \"Be prepared to explain your reasons for returning to your home country after completing your studies in the U.S., such as family ties, job opportunities, or future plans.\"\n",
      "      }\n",
      "    ]\n",
      "  }\n",
      "]\n",
      "``` \n",
      "\n"
     ]
    }
   ],
   "source": [
    "print(response.text)"
   ]
  },
  {
   "cell_type": "code",
   "execution_count": 20,
   "metadata": {},
   "outputs": [
    {
     "name": "stdout",
     "output_type": "stream",
     "text": [
      "CPU times: total: 0 ns\n",
      "Wall time: 847 ms\n"
     ]
    }
   ],
   "source": [
    "%%time\n",
    "response = model.generate_content(\"What is the meaning of life?\", stream=True)"
   ]
  },
  {
   "cell_type": "code",
   "execution_count": 21,
   "metadata": {},
   "outputs": [
    {
     "name": "stdout",
     "output_type": "stream",
     "text": [
      "The meaning of life is a deeply personal and philosophical question that has been pondered by\n",
      "________________________________________________________________________________\n",
      " thinkers, philosophers, and individuals throughout history. There is no single, universally accepted answer, as the meaning of life can vary greatly depending on an individual's\n",
      "________________________________________________________________________________\n",
      " values, beliefs, experiences, and cultural context.\n",
      "\n",
      "**Some common perspectives on the meaning of life include:**\n",
      "\n",
      "* **Eudaimonia (flourishing):** The ancient Greek concept of eudaimonia, often translated as \"happiness\" or \"well-being,\" refers to a state of living in accordance\n",
      "________________________________________________________________________________\n",
      " with one's virtues, values, and purpose. This view emphasizes the importance of living a life of excellence, meaningfulness, and fulfillment.\n",
      "\n",
      "* **Hedonism:** Hedonism suggests that the meaning of life lies in the pursuit of pleasure. This perspective focuses on maximizing positive experiences and minimizing pain or suffering.\n",
      "\n",
      "* **Purpose-driven life:** Many people find meaning in life through their work, relationships, or other activities that give them a sense of purpose and accomplishment. This could involve pursuing a career that is meaningful to them, contributing to society through charitable work, or caring for loved ones.\n",
      "\n",
      "* **Spiritual fulfillment\n",
      "________________________________________________________________________________\n",
      ":** Some individuals find meaning in life through spiritual practices, such as meditation, prayer, or religious devotion. This perspective emphasizes the connection to a higher power or a greater purpose beyond oneself.\n",
      "\n",
      "* **Legacy and impact:** For some, the meaning of life is tied to leaving a lasting legacy or making a positive impact on the world. This could involve creating art, writing, or engaging in social or environmental activism.\n",
      "\n",
      "* **No inherent meaning:** Some existentialists argue that life has no inherent meaning and that it is up to individuals to create their own meaning through their choices and actions. This perspective emphasizes personal responsibility and authenticity.\n",
      "\n",
      "**Other Perspectives:**\n",
      "\n",
      "* **Scientific:** Some scientists approach the meaning of life from a biological or evolutionary perspective, suggesting that it is related to survival, reproduction, and the continuation of the species.\n",
      "\n",
      "* **Sociological:** Sociologists may explore the meaning of life within the context of social structures, cultural norms, and societal expectations.\n",
      "\n",
      "* **Psychological:** Psychologists may examine the relationship between meaning and well-being, exploring how a sense of purpose and meaning can contribute to psychological health and happiness.\n",
      "\n",
      "Ultimately, the meaning of life is a deeply personal journey that is unique to each individual. There is no right or wrong answer,\n",
      "________________________________________________________________________________\n",
      " and it can evolve and change over time. By reflecting on our values, beliefs, experiences, and aspirations, we can strive to create a life that is meaningful and fulfilling to us.\n",
      "________________________________________________________________________________\n"
     ]
    }
   ],
   "source": [
    "for chunk in response:\n",
    "  print(chunk.text)\n",
    "  print(\"_\"*80)"
   ]
  },
  {
   "cell_type": "code",
   "execution_count": 16,
   "metadata": {},
   "outputs": [
    {
     "data": {
      "text/markdown": [
       "> **Philosophical Perspectives:**\n",
       "> \n",
       "> * **Existentialism:** Life has no inherent meaning, and individuals must create their own.\n",
       "> * **Absurdism:** Life is fundamentally meaningless, and humans must confront this absurdity.\n",
       "> * **Nihilism:** Life is completely without purpose or value.\n",
       "> * **Hedonism:** Life's primary goal is to maximize pleasure and minimize pain.\n",
       "> * **Utilitarianism:** The meaning of life lies in maximizing happiness and minimizing suffering for all.\n",
       "> * **Stoicism:** Life's meaning is found in living in accordance with nature, reason, and virtue.\n",
       "> * **Buddhism:** Life's ultimate goal is to achieve enlightenment and end the cycle of suffering.\n",
       "> \n",
       "> **Religious Perspectives:**\n",
       "> \n",
       "> * **Christianity, Islam, Judaism:** Life is a gift from God, and its meaning is to serve and worship Him.\n",
       "> * **Hinduism:** Life is a cycle of reincarnation, and its ultimate goal is to achieve moksha (liberation from the cycle).\n",
       "> * **Sikhism:** Life's purpose is to live with honesty, integrity, and compassion.\n",
       "> \n",
       "> **Scientific Perspectives:**\n",
       "> \n",
       "> * **Evolutionary Biology:** Humans are the result of natural selection, and their purpose is to maximize their reproductive fitness.\n",
       "> * **Cognitive Science:** Humans are meaning-making creatures, and our lives derive meaning from our beliefs, values, and social interactions.\n",
       "> \n",
       "> **Other Views:**\n",
       "> \n",
       "> * **Personalist Perspective:** Life's meaning is unique to each individual and can only be discovered through introspection and self-exploration.\n",
       "> * **Social Connection:** Life's meaning is found in forming relationships and contributing to society.\n",
       "> * **Purposeful Work:** Life's meaning is derived from engaging in activities that align with our passions and values.\n",
       "> * **Legacy:** Life's meaning is in leaving a lasting impact on the world and inspiring future generations.\n",
       "> \n",
       "> **Conclusion:**\n",
       "> \n",
       "> The meaning of life is a highly subjective and personal question. Different perspectives offer varying interpretations, ranging from the pursuit of pleasure to the fulfillment of divine purpose. Ultimately, the meaning of life is what each individual chooses to make it."
      ],
      "text/plain": [
       "<IPython.core.display.Markdown object>"
      ]
     },
     "execution_count": 16,
     "metadata": {},
     "output_type": "execute_result"
    }
   ],
   "source": [
    "import textwrap\n",
    "from IPython.display import Markdown\n",
    "\n",
    "def to_markdown(text):\n",
    "  text = text.replace('•', '  *')\n",
    "  return Markdown(textwrap.indent(text, '> ', predicate=lambda _: True))\n",
    "\n",
    "to_markdown(response.text)"
   ]
  },
  {
   "cell_type": "code",
   "execution_count": 39,
   "metadata": {},
   "outputs": [
    {
     "name": "stdout",
     "output_type": "stream",
     "text": [
      "The apple is blue.\n"
     ]
    }
   ],
   "source": [
    "is_blue = True\n",
    "sentence = f\"The apple is {'not ' if not is_blue else ''}blue.\"\n",
    "print(sentence)"
   ]
  }
 ],
 "metadata": {
  "kernelspec": {
   "display_name": "venv",
   "language": "python",
   "name": "python3"
  },
  "language_info": {
   "codemirror_mode": {
    "name": "ipython",
    "version": 3
   },
   "file_extension": ".py",
   "mimetype": "text/x-python",
   "name": "python",
   "nbconvert_exporter": "python",
   "pygments_lexer": "ipython3",
   "version": "3.10.11"
  }
 },
 "nbformat": 4,
 "nbformat_minor": 2
}
